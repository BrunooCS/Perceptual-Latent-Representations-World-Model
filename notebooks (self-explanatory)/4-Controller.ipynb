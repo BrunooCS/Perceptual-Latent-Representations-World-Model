{
 "cells": [
  {
   "cell_type": "markdown",
   "id": "ce3e3a4e",
   "metadata": {},
   "source": [
    "# **World Models - Controller (C)**\n",
    "\n",
    "## **Introduction**\n",
    "\n",
    "This notebook implements the Controller (C) component of the World Models architecture. In the World Model framework, the agent consists of three components:\n",
    "* **Vision (V)**: A Variational Autoencoder (VAE) that compresses visual input into a latent representation\n",
    "* **Memory (M)**: A recurrent network (LSTM-MDN) that predicts future states\n",
    "* **Controller (C)**: A neural network that takes latent state and hidden state to output actions\n",
    "\n",
    "The Controller is trained using an evolutionary strategy (CMA-ES) to optimize performance in the CarRacing environment.\n",
    "\n",
    "<img src=\"imgs/world model framework.png\" width=\"800\" alt=\"World Models Architecture Diagram\">\n",
    "\n",
    "## **Setup and Imports**\n",
    "First, we'll import the necessary libraries and load our pretrained Vision and Memory models."
   ]
  },
  {
   "cell_type": "code",
   "execution_count": 1,
   "id": "7abd3797",
   "metadata": {},
   "outputs": [],
   "source": [
    "import sys\n",
    "import os\n",
    "from pathlib import Path\n",
    "\n",
    "\n",
    "# Get the absolute path to the parent directory of the notebook\n",
    "parent_dir = os.path.abspath(os.path.join(os.getcwd(), '..'))\n",
    "\n",
    "if parent_dir not in sys.path:\n",
    "    sys.path.append(parent_dir)\n",
    "\n",
    "path = str(Path().cwd().parent)  "
   ]
  },
  {
   "cell_type": "code",
   "execution_count": 2,
   "id": "f2ad5909",
   "metadata": {},
   "outputs": [],
   "source": [
    "import os\n",
    "import time\n",
    "import torch\n",
    "import numpy as np\n",
    "from tqdm import tqdm\n",
    "import gymnasium as gym\n",
    "from gymnasium.vector import AsyncVectorEnv\n",
    "\n",
    "# Project imports\n",
    "from src.models.dds_vae import Vision\n",
    "from src.models.controller import Controller\n",
    "from src.models.mdn_rnn import MDNRNN\n",
    "\n",
    "device = torch.device('cuda' if torch.cuda.is_available() else 'cpu')"
   ]
  },
  {
   "cell_type": "markdown",
   "id": "f85117bb",
   "metadata": {},
   "source": [
    "### **Loading Pre-trained Vision (VAE) and Memory (MDN-LSTM) Models**\n",
    "\n",
    "We'll load our previously trained models that form the Vision and Memory components of our World Model."
   ]
  },
  {
   "cell_type": "code",
   "execution_count": 3,
   "id": "869c91d6",
   "metadata": {},
   "outputs": [
    {
     "data": {
      "text/plain": [
       "MDNRNN(\n",
       "  (rnn): RNN(\n",
       "    (lstm): LSTM(35, 256, batch_first=True)\n",
       "  )\n",
       "  (mdn): MDN(\n",
       "    (fc_pi): Linear(in_features=256, out_features=5, bias=True)\n",
       "    (fc_mu): Linear(in_features=256, out_features=160, bias=True)\n",
       "    (fc_sigma): Linear(in_features=256, out_features=160, bias=True)\n",
       "  )\n",
       ")"
      ]
     },
     "execution_count": 3,
     "metadata": {},
     "output_type": "execute_result"
    }
   ],
   "source": [
    "# Constants\n",
    "LATENT_DIM = 32\n",
    "HIDDEN_DIM = 256\n",
    "ACTION_DIM = 3\n",
    "\n",
    "# Load Vision model\n",
    "vision = Vision(\n",
    "    n_features_to_select=0.03,\n",
    "    in_ch=3,\n",
    "    out_ch=3,\n",
    "    latent_dim=LATENT_DIM,\n",
    "    base_ch=16,\n",
    "    alpha=1.0,\n",
    "    delta=0.1\n",
    ").to(device)\n",
    "vision.load_state_dict(torch.load(path+'/src/trained_models/vision_03_miniVAE.pth', map_location=device, weights_only=True))\n",
    "vision.eval()\n",
    "\n",
    "# Load Memory model\n",
    "memory = MDNRNN(\n",
    "    latent_dim=LATENT_DIM,\n",
    "    action_dim=ACTION_DIM,\n",
    "    hidden_dim=HIDDEN_DIM,\n",
    "    num_gaussians=5,\n",
    ").to(device)\n",
    "memory.load_state_dict(torch.load(path+'/src/trained_models/memory.pth', map_location=device, weights_only=True))\n",
    "memory.eval()"
   ]
  },
  {
   "cell_type": "code",
   "execution_count": 4,
   "id": "1fc21524",
   "metadata": {},
   "outputs": [],
   "source": [
    "from torch.nn import functional as F\n",
    "from torch.nn.utils import parameters_to_vector\n",
    "import logging\n",
    "\n",
    "# -------------------- Encoding & Decoding ----------------------\n",
    "def encode_obs_batch(vision: Vision, obs_batch: np.ndarray, size: tuple = (96, 96)) -> torch.Tensor:\n",
    "    \"\"\"\n",
    "    Encode batch of observations into latent space.\n",
    "\n",
    "    :param vision: Pretrained Vision model.\n",
    "    :param obs_batch: Batch of observations.\n",
    "    :param size: Target size for resizing.\n",
    "    :return: Latent representation (z).\n",
    "    \"\"\"\n",
    "    obs_tensor = torch.as_tensor(obs_batch, dtype=torch.float32, device=device)\n",
    "    obs_tensor = obs_tensor.permute(0, 3, 1, 2) / 255.0\n",
    "    obs_tensor = obs_tensor[:, :, :-12, :]                  # Crop bottom\n",
    "    obs_tensor = F.interpolate(obs_tensor, size=size, mode='bilinear')\n",
    "\n",
    "    with torch.no_grad():\n",
    "        _, _, z = vision.encode(obs_tensor)\n",
    "\n",
    "    return z\n",
    "\n",
    "def decode_obs(z: torch.Tensor, vision: Vision) -> np.ndarray:\n",
    "    \"\"\"\n",
    "    Decode latent space representation back to an image.\n",
    "\n",
    "    :param z: Latent representation.\n",
    "    :param vision: Pretrained Vision model.\n",
    "    :return: Decoded image as a NumPy array.\n",
    "    \"\"\"\n",
    "    with torch.no_grad():\n",
    "        x_hat, _, _ = vision.decode(z)\n",
    "\n",
    "    return x_hat.squeeze(0).permute(1, 2, 0).cpu().detach().numpy()\n",
    "\n",
    "def make_env(name='CarRacing-v3'):\n",
    "    \"\"\"Create and wrap environment.\"\"\"\n",
    "    def _init():\n",
    "        env = gym.make(\n",
    "            name, \n",
    "            render_mode='rgb_array', \n",
    "            lap_complete_percent=1.0, \n",
    "            domain_randomize=False, \n",
    "            continuous=True\n",
    "        )\n",
    "        return env\n",
    "    return _init\n",
    "\n",
    "def create_vector_envs(num_envs):\n",
    "    \"\"\"Create vectorized environment.\"\"\"\n",
    "    return AsyncVectorEnv([make_env() for _ in range(num_envs)], shared_memory=True)\n",
    "\n",
    "def reset(envs, num_steps=50, action_dim=3):\n",
    "    \"\"\"Reset environments and perform a number of no-op steps.\"\"\"\n",
    "    obs, _ = envs.reset()\n",
    "    for step in range(num_steps):\n",
    "        actions = np.zeros((envs.num_envs, action_dim))\n",
    "        obs, rewards, dones, truncs, infos = envs.step(actions)\n",
    "        \n",
    "        if np.any(dones | truncs):\n",
    "            reset_obs, _ = envs.reset_done()\n",
    "            obs = reset_obs\n",
    "            logging.debug(f\"Step {step}: Reset {np.sum(dones | truncs)} environments.\")\n",
    "    return envs, obs\n",
    "\n",
    "# ----------------------------------------------------------------\n",
    "# Controllers and Policy Evaluation\n",
    "# ----------------------------------------------------------------\n",
    "def process_actions(controllers, x):\n",
    "    \"\"\"Process actions for all controllers at once.\"\"\"\n",
    "    return torch.stack([ctrl.get_action(x[i:i+1]) for i, ctrl in enumerate(controllers)], dim=0)\n",
    "\n",
    "def load_weights(controller_class, solutions):\n",
    "    \"\"\"Load CMA-ES solutions into controller weights.\"\"\"\n",
    "    controllers = []\n",
    "    with torch.no_grad():\n",
    "        for params in solutions:\n",
    "            ctrl = controller_class(state_dim=LATENT_DIM + HIDDEN_DIM, action_dim=ACTION_DIM).to(device)\n",
    "            torch.nn.utils.vector_to_parameters(torch.tensor(params, dtype=torch.float32).to(device), ctrl.parameters())\n",
    "            controllers.append(ctrl)\n",
    "    return controllers\n",
    "\n",
    "def evaluate_policies(solutions, controller_class, max_steps, memory, vision):\n",
    "    \"\"\"Evaluate multiple policies in parallel via AsyncVectorEnv.\"\"\"\n",
    "    num_policies = len(solutions)\n",
    "    controllers = load_weights(controller_class, solutions)\n",
    "    envs = create_vector_envs(num_envs=num_policies)\n",
    "    # obs, _ = envs.reset()\n",
    "    envs, obs = reset(envs)\n",
    "    \n",
    "    hidden = memory.rnn.init_hidden(num_policies, 'cuda')\n",
    "    cumulative_rewards = np.zeros(num_policies)\n",
    "    dones = np.full(num_policies, False)\n",
    "\n",
    "    with torch.no_grad():\n",
    "        for _ in range(max_steps):\n",
    "            if np.all(dones):\n",
    "                break\n",
    "            z_batch = encode_obs_batch(vision, obs)\n",
    "            h = hidden[0].squeeze(0)\n",
    "            x = torch.cat([z_batch, h], dim=-1)\n",
    "            actions = process_actions(controllers, x)\n",
    "            obs, rewards, dones_new, _, _ = envs.step(actions.detach().cpu().numpy())\n",
    "            \n",
    "            z_batch = z_batch.unsqueeze(1)\n",
    "            actions = actions.unsqueeze(1)\n",
    "            _, hidden = memory.rnn(z_batch, actions, hidden)\n",
    "            \n",
    "            dones = np.logical_or(dones, dones_new)\n",
    "            cumulative_rewards += rewards * (~dones) \n",
    "    envs.close()\n",
    "    return cumulative_rewards.tolist()\n",
    "\n",
    "\n"
   ]
  },
  {
   "cell_type": "markdown",
   "id": "7a8b5b40",
   "metadata": {},
   "source": [
    "## **Controller Architecture**\n",
    "---\n",
    "\n",
    "The Controller processes two inputs:\n",
    "1. Latent vector `z` (32-dim) from the Vision model (VAE)\n",
    "2. Hidden state `h` (256-dim) from the Memory model (LSTM-MDN)\n",
    "\n",
    "It outputs three continuous actions for the CarRacing environment:\n",
    "- **Steering**: Range [-1, 1] (using tanh activation)\n",
    "- **Acceleration**: Range [0, 1] (using sigmoid activation)\n",
    "- **Brake**: Range [0, 1] (using sigmoid activation, limited to 0.8 max)\n",
    "\n",
    "## **Parallel Training Strategy**\n",
    "---\n",
    "\n",
    "<img src='imgs/batch_training_conrtoller.png' width=950>\n",
    "\n",
    "Our implementation uses parallel environments to efficiently evaluate multiple controllers:\n",
    "\n",
    "1. **CPU Parallelization**:\n",
    "   - Multiple gym environments run in parallel on CPU cores\n",
    "   - Each environment evaluates a different controller instance\n",
    "\n",
    "2. **Batch Processing Pipeline**:\n",
    "   - Stack observations from all environments\n",
    "   - Transfer batch to GPU for Vision and Memory processing\n",
    "   - Process through all controllers in parallel\n",
    "   - Return predicted actions back to CPU for environment steps\n",
    "\n",
    "This approach significantly speeds up training by:\n",
    "- Utilizing multiple CPU cores for environment simulation\n",
    "- Maximizing GPU utilization through batch processing\n",
    "- Reducing CPU-GPU transfers\n",
    "\n",
    "## **CMA-ES Training**\n",
    "---\n",
    "\n",
    "CMA-ES (Covariance Matrix Adaptation Evolution Strategy) is particularly well-suited for training our controller because:\n",
    "\n",
    "1. **No Gradient Requirements**: Works well for non-differentiable fitness functions like game scores\n",
    "2. **Exploration Efficiency**: Adapts its search distribution to the fitness landscape\n",
    "3. **Parallel Evaluation**: Naturally supports parallel fitness evaluation of solutions\n",
    "\n",
    "### Key Parameters:\n",
    "- Population size: 16 (matches CPU cores)\n",
    "- Evaluations per controller: 7 (balance between reliability and speed)\n",
    "- Initial sigma: 0.1 (exploration factor)\n",
    "- Generations: 200 (training iterations)"
   ]
  },
  {
   "cell_type": "code",
   "execution_count": 6,
   "id": "7e39faf4",
   "metadata": {},
   "outputs": [
    {
     "data": {
      "application/vnd.plotly.v1+json": {
       "config": {
        "plotlyServerURL": "https://plot.ly"
       },
       "data": [
        {
         "fill": "tozeroy",
         "fillcolor": "rgba(134, 210, 147, 0.2)",
         "hovertemplate": "%{y} in Generation %{x}<extra></extra>",
         "line": {
          "color": "#86D293",
          "width": 2.5
         },
         "mode": "lines",
         "name": "Best Reward",
         "type": "scatter",
         "x": {
          "bdata": "AQACAAMABAAFAAYABwAIAAkACgALAAwADQAOAA8AEAARABIAEwAUABUAFgAXABgAGQAaABsAHAAdAB4AHwAgACEAIgAjACQAJQAmACcAKAApACoAKwAsAC0ALgAvADAAMQAyADMANAA1ADYANwA4ADkAOgA7ADwAPQA+AD8AQABBAEIAQwBEAEUARgBHAEgASQBKAEsATABNAE4ATwBQAFEAUgBTAFQAVQBWAFcAWABZAFoAWwBcAF0AXgBfAGAAYQBiAGMAZABlAGYAZwBoAGkAagBrAGwAbQBuAG8AcABxAHIAcwB0AHUAdgB3AHgAeQB6AHsAfAB9AH4AfwCAAIEAggCDAIQAhQCGAIcAiACJAIoAiwCMAI0AjgCPAJAAkQCSAJMAlACVAJYAlwCYAJkAmgCbAJwAnQCeAJ8AoAChAKIAowCkAKUApgCnAKgAqQCqAKsArACtAK4ArwCwALEAsgCzALQAtQC2ALcAuAC5ALoAuwC8AL0AvgC/AMAAwQDCAMMAxADFAMYAxwDIAA==",
          "dtype": "i2"
         },
         "y": {
          "bdata": "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",
          "dtype": "f8"
         }
        },
        {
         "fill": "tozeroy",
         "fillcolor": "rgba(255, 207, 150, 0.2)",
         "hovertemplate": "%{y} in Generation %{x}<extra></extra>",
         "line": {
          "color": "#FFCF96",
          "width": 2.5
         },
         "mode": "lines",
         "name": "Mean Reward",
         "type": "scatter",
         "x": {
          "bdata": "AQACAAMABAAFAAYABwAIAAkACgALAAwADQAOAA8AEAARABIAEwAUABUAFgAXABgAGQAaABsAHAAdAB4AHwAgACEAIgAjACQAJQAmACcAKAApACoAKwAsAC0ALgAvADAAMQAyADMANAA1ADYANwA4ADkAOgA7ADwAPQA+AD8AQABBAEIAQwBEAEUARgBHAEgASQBKAEsATABNAE4ATwBQAFEAUgBTAFQAVQBWAFcAWABZAFoAWwBcAF0AXgBfAGAAYQBiAGMAZABlAGYAZwBoAGkAagBrAGwAbQBuAG8AcABxAHIAcwB0AHUAdgB3AHgAeQB6AHsAfAB9AH4AfwCAAIEAggCDAIQAhQCGAIcAiACJAIoAiwCMAI0AjgCPAJAAkQCSAJMAlACVAJYAlwCYAJkAmgCbAJwAnQCeAJ8AoAChAKIAowCkAKUApgCnAKgAqQCqAKsArACtAK4ArwCwALEAsgCzALQAtQC2ALcAuAC5ALoAuwC8AL0AvgC/AMAAwQDCAMMAxADFAMYAxwDIAA==",
          "dtype": "i2"
         },
         "y": {
          "bdata": "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",
          "dtype": "f8"
         }
        },
        {
         "fill": "tozeroy",
         "fillcolor": "rgba(255, 128, 128, 0.2)",
         "hovertemplate": "%{y} in Generation %{x}<extra></extra>",
         "line": {
          "color": "#FF8080",
          "width": 2.5
         },
         "mode": "lines",
         "name": "Worst Reward",
         "type": "scatter",
         "x": {
          "bdata": "AQACAAMABAAFAAYABwAIAAkACgALAAwADQAOAA8AEAARABIAEwAUABUAFgAXABgAGQAaABsAHAAdAB4AHwAgACEAIgAjACQAJQAmACcAKAApACoAKwAsAC0ALgAvADAAMQAyADMANAA1ADYANwA4ADkAOgA7ADwAPQA+AD8AQABBAEIAQwBEAEUARgBHAEgASQBKAEsATABNAE4ATwBQAFEAUgBTAFQAVQBWAFcAWABZAFoAWwBcAF0AXgBfAGAAYQBiAGMAZABlAGYAZwBoAGkAagBrAGwAbQBuAG8AcABxAHIAcwB0AHUAdgB3AHgAeQB6AHsAfAB9AH4AfwCAAIEAggCDAIQAhQCGAIcAiACJAIoAiwCMAI0AjgCPAJAAkQCSAJMAlACVAJYAlwCYAJkAmgCbAJwAnQCeAJ8AoAChAKIAowCkAKUApgCnAKgAqQCqAKsArACtAK4ArwCwALEAsgCzALQAtQC2ALcAuAC5ALoAuwC8AL0AvgC/AMAAwQDCAMMAxADFAMYAxwDIAA==",
          "dtype": "i2"
         },
         "y": {
          "bdata": "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",
          "dtype": "f8"
         }
        }
       ],
       "layout": {
        "font": {
         "color": "#333333",
         "family": "Helvetica, Arial, sans-serif",
         "size": 14
        },
        "height": 600,
        "legend": {
         "bgcolor": "rgba(255,255,255,0)",
         "bordercolor": "rgba(0,0,0,0)",
         "font": {
          "size": 14
         },
         "orientation": "h",
         "title": {
          "font": {
           "size": 16
          },
          "text": ""
         },
         "x": 0.5,
         "xanchor": "center",
         "y": 1.02,
         "yanchor": "bottom"
        },
        "paper_bgcolor": "white",
        "plot_bgcolor": "white",
        "template": {
         "data": {
          "bar": [
           {
            "error_x": {
             "color": "#2a3f5f"
            },
            "error_y": {
             "color": "#2a3f5f"
            },
            "marker": {
             "line": {
              "color": "#E5ECF6",
              "width": 0.5
             },
             "pattern": {
              "fillmode": "overlay",
              "size": 10,
              "solidity": 0.2
             }
            },
            "type": "bar"
           }
          ],
          "barpolar": [
           {
            "marker": {
             "line": {
              "color": "#E5ECF6",
              "width": 0.5
             },
             "pattern": {
              "fillmode": "overlay",
              "size": 10,
              "solidity": 0.2
             }
            },
            "type": "barpolar"
           }
          ],
          "carpet": [
           {
            "aaxis": {
             "endlinecolor": "#2a3f5f",
             "gridcolor": "white",
             "linecolor": "white",
             "minorgridcolor": "white",
             "startlinecolor": "#2a3f5f"
            },
            "baxis": {
             "endlinecolor": "#2a3f5f",
             "gridcolor": "white",
             "linecolor": "white",
             "minorgridcolor": "white",
             "startlinecolor": "#2a3f5f"
            },
            "type": "carpet"
           }
          ],
          "choropleth": [
           {
            "colorbar": {
             "outlinewidth": 0,
             "ticks": ""
            },
            "type": "choropleth"
           }
          ],
          "contour": [
           {
            "colorbar": {
             "outlinewidth": 0,
             "ticks": ""
            },
            "colorscale": [
             [
              0,
              "#0d0887"
             ],
             [
              0.1111111111111111,
              "#46039f"
             ],
             [
              0.2222222222222222,
              "#7201a8"
             ],
             [
              0.3333333333333333,
              "#9c179e"
             ],
             [
              0.4444444444444444,
              "#bd3786"
             ],
             [
              0.5555555555555556,
              "#d8576b"
             ],
             [
              0.6666666666666666,
              "#ed7953"
             ],
             [
              0.7777777777777778,
              "#fb9f3a"
             ],
             [
              0.8888888888888888,
              "#fdca26"
             ],
             [
              1,
              "#f0f921"
             ]
            ],
            "type": "contour"
           }
          ],
          "contourcarpet": [
           {
            "colorbar": {
             "outlinewidth": 0,
             "ticks": ""
            },
            "type": "contourcarpet"
           }
          ],
          "heatmap": [
           {
            "colorbar": {
             "outlinewidth": 0,
             "ticks": ""
            },
            "colorscale": [
             [
              0,
              "#0d0887"
             ],
             [
              0.1111111111111111,
              "#46039f"
             ],
             [
              0.2222222222222222,
              "#7201a8"
             ],
             [
              0.3333333333333333,
              "#9c179e"
             ],
             [
              0.4444444444444444,
              "#bd3786"
             ],
             [
              0.5555555555555556,
              "#d8576b"
             ],
             [
              0.6666666666666666,
              "#ed7953"
             ],
             [
              0.7777777777777778,
              "#fb9f3a"
             ],
             [
              0.8888888888888888,
              "#fdca26"
             ],
             [
              1,
              "#f0f921"
             ]
            ],
            "type": "heatmap"
           }
          ],
          "histogram": [
           {
            "marker": {
             "pattern": {
              "fillmode": "overlay",
              "size": 10,
              "solidity": 0.2
             }
            },
            "type": "histogram"
           }
          ],
          "histogram2d": [
           {
            "colorbar": {
             "outlinewidth": 0,
             "ticks": ""
            },
            "colorscale": [
             [
              0,
              "#0d0887"
             ],
             [
              0.1111111111111111,
              "#46039f"
             ],
             [
              0.2222222222222222,
              "#7201a8"
             ],
             [
              0.3333333333333333,
              "#9c179e"
             ],
             [
              0.4444444444444444,
              "#bd3786"
             ],
             [
              0.5555555555555556,
              "#d8576b"
             ],
             [
              0.6666666666666666,
              "#ed7953"
             ],
             [
              0.7777777777777778,
              "#fb9f3a"
             ],
             [
              0.8888888888888888,
              "#fdca26"
             ],
             [
              1,
              "#f0f921"
             ]
            ],
            "type": "histogram2d"
           }
          ],
          "histogram2dcontour": [
           {
            "colorbar": {
             "outlinewidth": 0,
             "ticks": ""
            },
            "colorscale": [
             [
              0,
              "#0d0887"
             ],
             [
              0.1111111111111111,
              "#46039f"
             ],
             [
              0.2222222222222222,
              "#7201a8"
             ],
             [
              0.3333333333333333,
              "#9c179e"
             ],
             [
              0.4444444444444444,
              "#bd3786"
             ],
             [
              0.5555555555555556,
              "#d8576b"
             ],
             [
              0.6666666666666666,
              "#ed7953"
             ],
             [
              0.7777777777777778,
              "#fb9f3a"
             ],
             [
              0.8888888888888888,
              "#fdca26"
             ],
             [
              1,
              "#f0f921"
             ]
            ],
            "type": "histogram2dcontour"
           }
          ],
          "mesh3d": [
           {
            "colorbar": {
             "outlinewidth": 0,
             "ticks": ""
            },
            "type": "mesh3d"
           }
          ],
          "parcoords": [
           {
            "line": {
             "colorbar": {
              "outlinewidth": 0,
              "ticks": ""
             }
            },
            "type": "parcoords"
           }
          ],
          "pie": [
           {
            "automargin": true,
            "type": "pie"
           }
          ],
          "scatter": [
           {
            "fillpattern": {
             "fillmode": "overlay",
             "size": 10,
             "solidity": 0.2
            },
            "type": "scatter"
           }
          ],
          "scatter3d": [
           {
            "line": {
             "colorbar": {
              "outlinewidth": 0,
              "ticks": ""
             }
            },
            "marker": {
             "colorbar": {
              "outlinewidth": 0,
              "ticks": ""
             }
            },
            "type": "scatter3d"
           }
          ],
          "scattercarpet": [
           {
            "marker": {
             "colorbar": {
              "outlinewidth": 0,
              "ticks": ""
             }
            },
            "type": "scattercarpet"
           }
          ],
          "scattergeo": [
           {
            "marker": {
             "colorbar": {
              "outlinewidth": 0,
              "ticks": ""
             }
            },
            "type": "scattergeo"
           }
          ],
          "scattergl": [
           {
            "marker": {
             "colorbar": {
              "outlinewidth": 0,
              "ticks": ""
             }
            },
            "type": "scattergl"
           }
          ],
          "scattermap": [
           {
            "marker": {
             "colorbar": {
              "outlinewidth": 0,
              "ticks": ""
             }
            },
            "type": "scattermap"
           }
          ],
          "scattermapbox": [
           {
            "marker": {
             "colorbar": {
              "outlinewidth": 0,
              "ticks": ""
             }
            },
            "type": "scattermapbox"
           }
          ],
          "scatterpolar": [
           {
            "marker": {
             "colorbar": {
              "outlinewidth": 0,
              "ticks": ""
             }
            },
            "type": "scatterpolar"
           }
          ],
          "scatterpolargl": [
           {
            "marker": {
             "colorbar": {
              "outlinewidth": 0,
              "ticks": ""
             }
            },
            "type": "scatterpolargl"
           }
          ],
          "scatterternary": [
           {
            "marker": {
             "colorbar": {
              "outlinewidth": 0,
              "ticks": ""
             }
            },
            "type": "scatterternary"
           }
          ],
          "surface": [
           {
            "colorbar": {
             "outlinewidth": 0,
             "ticks": ""
            },
            "colorscale": [
             [
              0,
              "#0d0887"
             ],
             [
              0.1111111111111111,
              "#46039f"
             ],
             [
              0.2222222222222222,
              "#7201a8"
             ],
             [
              0.3333333333333333,
              "#9c179e"
             ],
             [
              0.4444444444444444,
              "#bd3786"
             ],
             [
              0.5555555555555556,
              "#d8576b"
             ],
             [
              0.6666666666666666,
              "#ed7953"
             ],
             [
              0.7777777777777778,
              "#fb9f3a"
             ],
             [
              0.8888888888888888,
              "#fdca26"
             ],
             [
              1,
              "#f0f921"
             ]
            ],
            "type": "surface"
           }
          ],
          "table": [
           {
            "cells": {
             "fill": {
              "color": "#EBF0F8"
             },
             "line": {
              "color": "white"
             }
            },
            "header": {
             "fill": {
              "color": "#C8D4E3"
             },
             "line": {
              "color": "white"
             }
            },
            "type": "table"
           }
          ]
         },
         "layout": {
          "annotationdefaults": {
           "arrowcolor": "#2a3f5f",
           "arrowhead": 0,
           "arrowwidth": 1
          },
          "autotypenumbers": "strict",
          "coloraxis": {
           "colorbar": {
            "outlinewidth": 0,
            "ticks": ""
           }
          },
          "colorscale": {
           "diverging": [
            [
             0,
             "#8e0152"
            ],
            [
             0.1,
             "#c51b7d"
            ],
            [
             0.2,
             "#de77ae"
            ],
            [
             0.3,
             "#f1b6da"
            ],
            [
             0.4,
             "#fde0ef"
            ],
            [
             0.5,
             "#f7f7f7"
            ],
            [
             0.6,
             "#e6f5d0"
            ],
            [
             0.7,
             "#b8e186"
            ],
            [
             0.8,
             "#7fbc41"
            ],
            [
             0.9,
             "#4d9221"
            ],
            [
             1,
             "#276419"
            ]
           ],
           "sequential": [
            [
             0,
             "#0d0887"
            ],
            [
             0.1111111111111111,
             "#46039f"
            ],
            [
             0.2222222222222222,
             "#7201a8"
            ],
            [
             0.3333333333333333,
             "#9c179e"
            ],
            [
             0.4444444444444444,
             "#bd3786"
            ],
            [
             0.5555555555555556,
             "#d8576b"
            ],
            [
             0.6666666666666666,
             "#ed7953"
            ],
            [
             0.7777777777777778,
             "#fb9f3a"
            ],
            [
             0.8888888888888888,
             "#fdca26"
            ],
            [
             1,
             "#f0f921"
            ]
           ],
           "sequentialminus": [
            [
             0,
             "#0d0887"
            ],
            [
             0.1111111111111111,
             "#46039f"
            ],
            [
             0.2222222222222222,
             "#7201a8"
            ],
            [
             0.3333333333333333,
             "#9c179e"
            ],
            [
             0.4444444444444444,
             "#bd3786"
            ],
            [
             0.5555555555555556,
             "#d8576b"
            ],
            [
             0.6666666666666666,
             "#ed7953"
            ],
            [
             0.7777777777777778,
             "#fb9f3a"
            ],
            [
             0.8888888888888888,
             "#fdca26"
            ],
            [
             1,
             "#f0f921"
            ]
           ]
          },
          "colorway": [
           "#636efa",
           "#EF553B",
           "#00cc96",
           "#ab63fa",
           "#FFA15A",
           "#19d3f3",
           "#FF6692",
           "#B6E880",
           "#FF97FF",
           "#FECB52"
          ],
          "font": {
           "color": "#2a3f5f"
          },
          "geo": {
           "bgcolor": "white",
           "lakecolor": "white",
           "landcolor": "#E5ECF6",
           "showlakes": true,
           "showland": true,
           "subunitcolor": "white"
          },
          "hoverlabel": {
           "align": "left"
          },
          "hovermode": "closest",
          "mapbox": {
           "style": "light"
          },
          "paper_bgcolor": "white",
          "plot_bgcolor": "#E5ECF6",
          "polar": {
           "angularaxis": {
            "gridcolor": "white",
            "linecolor": "white",
            "ticks": ""
           },
           "bgcolor": "#E5ECF6",
           "radialaxis": {
            "gridcolor": "white",
            "linecolor": "white",
            "ticks": ""
           }
          },
          "scene": {
           "xaxis": {
            "backgroundcolor": "#E5ECF6",
            "gridcolor": "white",
            "gridwidth": 2,
            "linecolor": "white",
            "showbackground": true,
            "ticks": "",
            "zerolinecolor": "white"
           },
           "yaxis": {
            "backgroundcolor": "#E5ECF6",
            "gridcolor": "white",
            "gridwidth": 2,
            "linecolor": "white",
            "showbackground": true,
            "ticks": "",
            "zerolinecolor": "white"
           },
           "zaxis": {
            "backgroundcolor": "#E5ECF6",
            "gridcolor": "white",
            "gridwidth": 2,
            "linecolor": "white",
            "showbackground": true,
            "ticks": "",
            "zerolinecolor": "white"
           }
          },
          "shapedefaults": {
           "line": {
            "color": "#2a3f5f"
           }
          },
          "ternary": {
           "aaxis": {
            "gridcolor": "white",
            "linecolor": "white",
            "ticks": ""
           },
           "baxis": {
            "gridcolor": "white",
            "linecolor": "white",
            "ticks": ""
           },
           "bgcolor": "#E5ECF6",
           "caxis": {
            "gridcolor": "white",
            "linecolor": "white",
            "ticks": ""
           }
          },
          "title": {
           "x": 0.05
          },
          "xaxis": {
           "automargin": true,
           "gridcolor": "white",
           "linecolor": "white",
           "ticks": "",
           "title": {
            "standoff": 15
           },
           "zerolinecolor": "white",
           "zerolinewidth": 2
          },
          "yaxis": {
           "automargin": true,
           "gridcolor": "white",
           "linecolor": "white",
           "ticks": "",
           "title": {
            "standoff": 15
           },
           "zerolinecolor": "white",
           "zerolinewidth": 2
          }
         }
        },
        "title": {
         "font": {
          "color": "#333333",
          "size": 20
         },
         "text": "CMA-ES Training Results",
         "x": 0.5,
         "xanchor": "center",
         "y": 0.95,
         "yanchor": "top"
        },
        "width": 900,
        "xaxis": {
         "gridcolor": "rgba(200,200,200,0.2)",
         "linecolor": "rgba(200,200,200,0.5)",
         "linewidth": 1,
         "mirror": true,
         "showgrid": true,
         "title": {
          "text": "Generation"
         }
        },
        "yaxis": {
         "gridcolor": "rgba(200,200,200,0.2)",
         "linecolor": "rgba(200,200,200,0.5)",
         "linewidth": 1,
         "mirror": true,
         "showgrid": true,
         "title": {
          "text": "Reward"
         }
        }
       }
      }
     },
     "metadata": {},
     "output_type": "display_data"
    }
   ],
   "source": [
    "from src.utils.plots import plot_cma_es_results\n",
    "import pandas as pd\n",
    "metrics = pd.read_csv(path+'/src/cma_es_metrics.csv')\n",
    "plot_cma_es_results(metrics)"
   ]
  },
  {
   "cell_type": "markdown",
   "id": "82fa81d6",
   "metadata": {},
   "source": [
    "## **Visualizing Trained Controller**\n",
    "---\n",
    "\n",
    "Let's visualize how our trained controller performs in the environment:"
   ]
  },
  {
   "cell_type": "code",
   "execution_count": 6,
   "id": "2cd2816a",
   "metadata": {},
   "outputs": [
    {
     "name": "stdout",
     "output_type": "stream",
     "text": [
      "Reward: 910.20 | Steps: 899\n"
     ]
    }
   ],
   "source": [
    "\n",
    "def render_policy(env_name, vision, controller, mdnrnn, encode_obs_batch):\n",
    "    \"\"\"Render a policy in the environment.\"\"\"\n",
    "    env = gym.make(env_name, render_mode='human', lap_complete_percent=1.0)\n",
    "\n",
    "    done = False\n",
    "    cumulative_reward = 0\n",
    "    obs, _ = env.reset()\n",
    "    \n",
    "    # Initialize hidden state\n",
    "    h = (torch.zeros(1, HIDDEN_DIM).to(device),\n",
    "         torch.zeros(1, HIDDEN_DIM).to(device))\n",
    "    step_count = 1\n",
    "    \n",
    "    while True:\n",
    "        # Encode observation to latent space\n",
    "        z = encode_obs_batch(vision, obs[np.newaxis, ...])\n",
    "\n",
    "        # Combine latent and hidden state\n",
    "        x = torch.cat([z, h[0]], dim=-1)\n",
    "        \n",
    "        # Get action from controller\n",
    "        a = controller.get_action(x)\n",
    "           \n",
    "        # Step environment\n",
    "        obs, reward, done, _, _ = env.step(a.detach().cpu().numpy())\n",
    "        env.render()\n",
    "        \n",
    "        # Update LSTM hidden state\n",
    "        _, h = mdnrnn.rnn(z, a.unsqueeze(0), h=h)\n",
    "    \n",
    "        cumulative_reward += reward\n",
    "        step_count += 1\n",
    "        \n",
    "        # End episode on completion or timeout\n",
    "        if done or step_count >= 1000:\n",
    "            break\n",
    "    \n",
    "    env.close()\n",
    "    print(f'Reward: {cumulative_reward:.2f} | Steps: {step_count}')\n",
    "\n",
    "# Load and evaluate best controller\n",
    "controller = Controller(LATENT_DIM + HIDDEN_DIM, ACTION_DIM).to(device)\n",
    "controller.load_state_dict(torch.load(path+'/src/trained_models/controller.pth', map_location=device, weights_only=True))\n",
    "controller.eval()\n",
    "\n",
    "# Visualize the trained controller in action\n",
    "render_policy('CarRacing-v3', vision, controller, memory, encode_obs_batch)"
   ]
  },
  {
   "cell_type": "markdown",
   "id": "8206e39f",
   "metadata": {},
   "source": [
    "## **Final Evaluation**\n",
    "---\n",
    "\n",
    "Let's perform a comprehensive evaluation of our controller over 100 episodes:"
   ]
  },
  {
   "cell_type": "code",
   "execution_count": null,
   "id": "442d4235",
   "metadata": {},
   "outputs": [],
   "source": [
    "\n",
    "def final_evaluation(controller_class, best_solution, memory, \n",
    "                     parallel_rollouts=7, max_steps=1000, popsize=16):\n",
    "    \"\"\"Comprehensive evaluation of the best controller across multiple episodes.\"\"\"\n",
    "    final_rewards = []\n",
    "    best_controllers = [best_solution for _ in range(popsize)] \n",
    "    \n",
    "    # Execute multiple evaluation rollouts\n",
    "    for i in tqdm(range(parallel_rollouts)):\n",
    "        rewards = evaluate_policies(best_controllers, controller_class, \n",
    "                                  max_steps, memory, vision)\n",
    "        final_rewards.append(rewards)\n",
    "\n",
    "    # Flatten rewards list and calculate statistics\n",
    "    all_rewards = np.array(final_rewards).flatten()\n",
    "    print(f\"Performance over {popsize*parallel_rollouts} episodes: \"\n",
    "          f\"{np.mean(all_rewards):.2f} ± {np.std(all_rewards):.2f}\")\n",
    "    return all_rewards\n",
    "\n",
    "# Evaluation parameters\n",
    "popsize = 16\n",
    "parallel_rollouts = 8\n",
    "\n",
    "\n",
    "\n",
    "best_solution = parameters_to_vector(\n",
    "    controller.parameters()).cpu().detach().numpy()\n",
    "\n",
    "# Run final evaluation\n",
    "rewards = final_evaluation(Controller, best_solution, memory, \n",
    "                         parallel_rollouts=parallel_rollouts, \n",
    "                         max_steps=1000, popsize=popsize)"
   ]
  }
 ],
 "metadata": {
  "kernelspec": {
   "display_name": "pytorch",
   "language": "python",
   "name": "python3"
  },
  "language_info": {
   "codemirror_mode": {
    "name": "ipython",
    "version": 3
   },
   "file_extension": ".py",
   "mimetype": "text/x-python",
   "name": "python",
   "nbconvert_exporter": "python",
   "pygments_lexer": "ipython3",
   "version": "3.12.8"
  }
 },
 "nbformat": 4,
 "nbformat_minor": 5
}
